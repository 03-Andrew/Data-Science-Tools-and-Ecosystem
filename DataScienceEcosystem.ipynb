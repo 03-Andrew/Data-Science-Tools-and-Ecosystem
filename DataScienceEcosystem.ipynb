{
 "cells": [
  {
   "cell_type": "markdown",
   "id": "9c2330cb-0ac4-4703-b863-40932d2b8e8a",
   "metadata": {},
   "source": [
    "# Data Science Tools and Ecosystem"
   ]
  },
  {
   "cell_type": "markdown",
   "id": "9b87126f-2c93-4426-a6b5-4067293b9e83",
   "metadata": {
    "tags": []
   },
   "source": [
    "In this notebook, Data Science Tools and Ecosystem are summarized."
   ]
  },
  {
   "cell_type": "markdown",
   "id": "db036157-5e01-446f-9f9b-aabb54898c11",
   "metadata": {},
   "source": [
    "Some of the popular languages that Data Scientists use are:\n",
    "1. Python\n",
    "2. R\n",
    "3. SQL\n",
    "4. Java\n",
    "5. C++"
   ]
  },
  {
   "cell_type": "markdown",
   "id": "7f961d4c-973a-4230-af56-3ae99420d4a8",
   "metadata": {},
   "source": [
    "Some of the commonly used libraries used by Data Scientists include\n",
    "1. Tensorflow\n",
    "2. Keras\n",
    "3. NumPy\n",
    "4. PyTorch"
   ]
  },
  {
   "cell_type": "markdown",
   "id": "ed7ce48c-4bbb-42d3-92eb-9359fa06018d",
   "metadata": {},
   "source": [
    "|Data Science Tools|\n",
    "|---|\n",
    "|Microsoft Power BI|\n",
    "|SAS|\n",
    "|Tensorflow|\n"
   ]
  },
  {
   "cell_type": "markdown",
   "id": "c7a311a7-30d9-424e-b472-b6315d0ae4f5",
   "metadata": {},
   "source": [
    "### Below are a few examples of evaluating arithmetic expressions in Python"
   ]
  },
  {
   "cell_type": "code",
   "execution_count": 2,
   "id": "18121729-bac1-41d1-93e1-b32aeb76f46f",
   "metadata": {
    "tags": []
   },
   "outputs": [
    {
     "data": {
      "text/plain": [
       "17"
      ]
     },
     "execution_count": 2,
     "metadata": {},
     "output_type": "execute_result"
    }
   ],
   "source": [
    "# This a simple arithmetic expression to mutiply then add integers\n",
    "(3*4)+5"
   ]
  },
  {
   "cell_type": "code",
   "execution_count": 3,
   "id": "039df8ee-2363-4e61-82b8-6d818f98cfcf",
   "metadata": {
    "tags": []
   },
   "outputs": [
    {
     "data": {
      "text/plain": [
       "3.3333333333333335"
      ]
     },
     "execution_count": 3,
     "metadata": {},
     "output_type": "execute_result"
    }
   ],
   "source": [
    "# This will convert 200 minutes to hours by diving by 60\n",
    "200/60"
   ]
  },
  {
   "cell_type": "markdown",
   "id": "e0c528a9-0404-4fda-9e80-de4ff0041c8e",
   "metadata": {},
   "source": [
    "__Objective__\n",
    "* List popular languages for data science\n",
    "* List popular libraries for data science\n",
    "* List of Data science tools\n",
    "* Add arithmetic to cells"
   ]
  },
  {
   "cell_type": "markdown",
   "id": "72667844-f574-43fa-b816-4e9a95e70f13",
   "metadata": {},
   "source": [
    "## Author\n",
    "James Andrei C. Nadela"
   ]
  },
  {
   "cell_type": "code",
   "execution_count": null,
   "id": "e12966c4-e5c2-41d3-885a-23b1ddd33084",
   "metadata": {},
   "outputs": [],
   "source": []
  }
 ],
 "metadata": {
  "kernelspec": {
   "display_name": "Python",
   "language": "python",
   "name": "conda-env-python-py"
  },
  "language_info": {
   "codemirror_mode": {
    "name": "ipython",
    "version": 3
   },
   "file_extension": ".py",
   "mimetype": "text/x-python",
   "name": "python",
   "nbconvert_exporter": "python",
   "pygments_lexer": "ipython3",
   "version": "3.7.12"
  }
 },
 "nbformat": 4,
 "nbformat_minor": 5
}
